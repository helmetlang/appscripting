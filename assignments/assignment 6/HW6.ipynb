{
 "cells": [
  {
   "cell_type": "markdown",
   "metadata": {},
   "source": [
    "# Homework 6\n",
    "CSCI1411"
   ]
  },
  {
   "cell_type": "markdown",
   "metadata": {},
   "source": [
    "**Recommended Reading:**\n",
    "- [Programming in Python](https://ipydatabook.github.io//chapters/03/programming-in-python.html)\n",
    "\n",
    "In this homework, we will be using Jupyter Notebooks to practice basic Python syntax.\n",
    "\n",
    "Directly sharing answers is not okay, but discussing problems with the course staff or with other students is encouraged.\n",
    "You should start early so that you have time to get help if you're stuck."
   ]
  },
  {
   "cell_type": "markdown",
   "metadata": {},
   "source": [
    "# Warm-up\n",
    "\n",
    "Jupyter notebook uses cell blocks or \"cells\" as coding areas. Each question will have a description of the problem with a code space below it for your practice. Use the Run button at the top. Below is an example to understand how to submit and check answers. Assign the value 5 to variable x. Once you have a solution, click the Run button in the top bar. If an error appears, correct all errors before moving onto the verification. "
   ]
  },
  {
   "cell_type": "code",
   "execution_count": null,
   "metadata": {},
   "outputs": [],
   "source": [
    "x = ?\n",
    "y = 5\n",
    "z = x+y"
   ]
  },
  {
   "cell_type": "markdown",
   "metadata": {},
   "source": [
    "Now that you have solution, run the cell bellow the same way you ran the cell above. If done correctly, the output will show a success message and you can proceed to the next question. If incorrect, an error will be displayed. Go ahead and use another value for x that is not y. Keep in mind, you will need to re-run the cell so the new values are assigned. \n",
    "\n",
    "\"assert\" is used in testing conditions. Each successful assert line will allow the python script to proceed to the next line."
   ]
  },
  {
   "cell_type": "code",
   "execution_count": null,
   "metadata": {},
   "outputs": [],
   "source": [
    "###  VERIFICATION ###\n",
    "### DO NOT MODIFY, RUN ONLY ###\n",
    "\n",
    "assert x == 5, \"Check your value of x\"\n",
    "assert z == 10\n",
    "\n",
    "print(\"Success! Great job!\")"
   ]
  },
  {
   "cell_type": "markdown",
   "metadata": {},
   "source": [
    "Once you have completed the warm-up, you are ready to begin the assignment."
   ]
  },
  {
   "cell_type": "markdown",
   "metadata": {},
   "source": [
    "# 1. String Exercise\n",
    "Below are some Python string exercises. Complete each section, then run Section 1 Checker to verify your results!"
   ]
  },
  {
   "cell_type": "code",
   "execution_count": null,
   "metadata": {},
   "outputs": [],
   "source": [
    "#1.1. Debug the code\n",
    "str1 = \" Python Scripting is COOL! \"\n",
    "   print(\"Original str1: \" + Str1)\n",
    "   \n",
    "#1.2. combine str2 + str3 in to str4\n",
    "str2 = \"192.168.1.10\"\n",
    "str3 = \" is where the malicious activity is coming from!\"\n",
    "str4 = ?\n",
    "\n",
    "### String manipulation ###\n",
    "#1.3 Lowercase all of str1 using a method\n",
    "str1_lower = ?\n",
    "\n",
    "\n",
    "#1.4 Remove the leading and trailing whitespace of str1 using a method\n",
    "str1_stripped = ?\n",
    "\n",
    "#1.5 Lowercase and remove the leading and trailing whitespace of str1 using methods\n",
    "str1_stripped_lowered = ?\n"
   ]
  },
  {
   "cell_type": "code",
   "execution_count": null,
   "metadata": {},
   "outputs": [],
   "source": [
    "### Section 1 Checker ###\n",
    "###  DO NOT MODIFY ###\n",
    "\n",
    "print(\"Your str4 value: \" + str4)\n",
    "print(\"Expected str4 value: \" + \"192.168.1.10 is where the malicious activity is coming from!\")\n",
    "assert str4 == '192.168.1.10 is where the malicious activity is coming from!'\n",
    "print(\"1.1 Complete!\")\n",
    "print(\"1.2 Complete!\")\n",
    "print(\"---------------------------------------------------------------------\")\n",
    "\n",
    "print(\"Your str1_lower value: \" + str1_lower)\n",
    "print(\"Expected str1_lower value: \" + \" python scripting is cool! \")\n",
    "assert str1_lower == ' python scripting is cool! '\n",
    "print(\"1.3 Complete!\")\n",
    "print(\"---------------------------------------------------------------------\")\n",
    "\n",
    "print(\"Your str1_stripped value: \" + str1_stripped)\n",
    "print(\"Expected str1_stripped value: \" + \"Python Scripting is COOL!\")\n",
    "assert str1_stripped == 'Python Scripting is COOL!'\n",
    "print(\"1.4 Complete!\")\n",
    "print(\"---------------------------------------------------------------------\")\n",
    "\n",
    "print(\"Your str1_stripped_lowered value: \" + str1_stripped_lowered)\n",
    "print(\"Expected str1_stripped_lowered value: \" + \"python scripting is cool!\")\n",
    "assert str1_stripped_lowered == 'python scripting is cool!'\n",
    "print(\"1.5 Complete!\")\n",
    "print(\"---------------------------------------------------------------------\")\n",
    "\n",
    "\n",
    "print(\"Everything looks good! Great job!\")"
   ]
  },
  {
   "cell_type": "markdown",
   "metadata": {},
   "source": [
    "# 2. Numeric Operations\n",
    "Below are some Python numeric exercises. Complete each problem, then run Section 2 Checker to verify your results!\n",
    "\n",
    "2.2 Mathematical formula:\n",
    "\\begin{align}\n",
    " order = \\frac{5}{3} + 5 - 10\n",
    "\\end{align}\n",
    "\n",
    "\n",
    "2.3 Mathematical formula:\n",
    "\n",
    "\\begin{align}\n",
    " result = 6a^3 - \\frac{8b^2 }{4c} + 11\n",
    "\\end{align}\n",
    "\n",
    "\n",
    "2.4 Weight on Mars:\n",
    "\n",
    "\\begin{align}\n",
    "  weightOnMars = \\frac{Weight\\,on\\,Earth}{9.8\\,m/s^2} x 3.711\\,m/s^2\n",
    "\\end{align}\n",
    "\n"
   ]
  },
  {
   "cell_type": "code",
   "execution_count": null,
   "metadata": {},
   "outputs": [],
   "source": [
    "#2.1 Square 5 and assign to variable square\n",
    "square = ?\n",
    "\n",
    "#2.2 Use the mathematical formula above in Python and return the value to order\n",
    "order = ?\n",
    "\n",
    "#2.3 Use the mathematical formula above in Python and return the value to result\n",
    "a = 2\n",
    "b = 3\n",
    "c = 2\n",
    "\n",
    "# Your formula here:\n",
    "result = ?\n",
    "\n",
    "\n",
    "#2.4 Write a forumula for converting your weight on Earth to your weight on Mars. \n",
    "# Convert 150 lbs on Earth to weight on Mars, round to the closest two decimal points using a rounding method\n",
    "earthWeight = 150.0\n",
    "weightOnMars = ?\n",
    "\n"
   ]
  },
  {
   "cell_type": "code",
   "execution_count": null,
   "metadata": {},
   "outputs": [],
   "source": [
    "### Section 2 Checker ###\n",
    "###  DO NOT MODIFY ###\n",
    "\n",
    "print(\"Your square value: \" + str(square))\n",
    "print(\"Expected square value: \" + str(25.0))\n",
    "assert square == 25.0\n",
    "print(\"2.1 Complete!\")\n",
    "print(\"---------------------------------------------------------------------\")\n",
    "\n",
    "print(\"Your order value: \" + str(order))\n",
    "print(\"Expected order value: \" + str(-3.333333333333333))\n",
    "assert order == -3.333333333333333\n",
    "print(\"2.2 Complete!\")\n",
    "print(\"---------------------------------------------------------------------\")\n",
    "\n",
    "print(\"Your result value: \" + str(result))\n",
    "print(\"Expected result value: \" + str(50.0))\n",
    "assert result == 50.0\n",
    "print(\"2.3 Complete!\")\n",
    "print(\"---------------------------------------------------------------------\")\n",
    "\n",
    "print(\"Your weightOnMars value: \" + str(weightOnMars))\n",
    "print(\"Expected weightOnMars value: \" + str(56.80))\n",
    "assert weightOnMars == 56.80\n",
    "print(\"2.4 Complete!\")\n",
    "print(\"---------------------------------------------------------------------\")\n",
    "\n",
    "print(\"Everything looks good! Great job!\")"
   ]
  },
  {
   "cell_type": "markdown",
   "metadata": {},
   "source": [
    "# 3. Modules\n",
    "Import and use a couple of modules"
   ]
  },
  {
   "cell_type": "code",
   "execution_count": null,
   "metadata": {},
   "outputs": [],
   "source": [
    "#3.1 import hashlib module\n",
    "import hashlib\n",
    "\n",
    "#3.2 Use hashlib module to encrypt\n",
    "firstStr = \"Bitcoin\"\n",
    "secondStr = \"Bitcoin!\"\n",
    "\n",
    "hashedFirstStr = ?\n",
    "hashedSecondStr = ?\n",
    "\n",
    "#3.3 Print the two hashes\n",
    "# Your Code Here\n",
    "\n"
   ]
  },
  {
   "cell_type": "code",
   "execution_count": null,
   "metadata": {},
   "outputs": [],
   "source": [
    "### Section 3 Checker ###\n",
    "###  DO NOT MODIFY ###\n",
    "\n",
    "print(\"Your hashedFirstStr value: \" + hashedFirstStr)\n",
    "print(\"Expected hashedFirstStr value: \" + \"d023ec040f79f1a9b2ac960b43785089\")\n",
    "assert hashedFirstStr == \"d023ec040f79f1a9b2ac960b43785089\"\n",
    "print(\"3.1 Complete!\")\n",
    "print(\"---------------------------------------------------------------------\")\n",
    "\n",
    "print(\"Your hashedSecondStr value: \" + hashedSecondStr)\n",
    "print(\"Expected hashedSecondStr value: \" + \"3e271bb7a040a5b018e79fbda96921e8\")\n",
    "assert hashedSecondStr == \"3e271bb7a040a5b018e79fbda96921e8\"\n",
    "print(\"3.2 Complete!\")\n",
    "print(\"---------------------------------------------------------------------\")\n",
    "\n",
    "print(\"Everything looks good! Great job!\")"
   ]
  }
 ],
 "metadata": {
  "kernelspec": {
   "display_name": "Python 3",
   "language": "python",
   "name": "python3"
  },
  "language_info": {
   "codemirror_mode": {
    "name": "ipython",
    "version": 3
   },
   "file_extension": ".py",
   "mimetype": "text/x-python",
   "name": "python",
   "nbconvert_exporter": "python",
   "pygments_lexer": "ipython3",
   "version": "3.7.9"
  }
 },
 "nbformat": 4,
 "nbformat_minor": 4
}
